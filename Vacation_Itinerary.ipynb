{
 "cells": [
  {
   "cell_type": "code",
   "execution_count": null,
   "id": "84a34b92",
   "metadata": {},
   "outputs": [],
   "source": [
    "# Dependencies and Setup\n",
    "import pandas as pd\n",
    "import requests\n",
    "import gmaps\n",
    "\n",
    "# Import API key\n",
    "from config import g_key\n",
    "\n",
    "# Configure gmaps\n",
    "gmaps.configure(api_key=g_key)"
   ]
  },
  {
   "cell_type": "code",
   "execution_count": null,
   "id": "6f67bc2e",
   "metadata": {},
   "outputs": [],
   "source": [
    "# 1. Read the WeatherPy_vacation.csv into a DataFrame.\n",
    "vacation_df = pd.read_csv(\"../Vacation_Search/WeatherPy_vacation.csv\")\n",
    "vacation_df.head()"
   ]
  },
  {
   "cell_type": "code",
   "execution_count": null,
   "id": "c04d9aab",
   "metadata": {},
   "outputs": [],
   "source": [
    "# 2. Using the template add the city name, the country code, the weather description and maximum temperature for the city.\n",
    "info_box_template = \"\"\"\n",
    "<dl>\n",
    "<dt>Hotel Name</dt><dd>{Hotel Name}</dd>\n",
    "<dt>City</dt><dd>{City}</dd>\n",
    "<dt>Country</dt><dd>{Country}</dd>\n",
    "<dt>Weather Description</dt><dd>{Current Description}</dd>\n",
    "<dt>Max Temp</dt><dd>{Max Temp} °F</dd>\n",
    "</dl>\n",
    "\"\"\"\n",
    "\n",
    "# 3a. Get the data from each row and add it to the formatting template and store the data in a list.\n",
    "hotel_info = [info_box_template.format(**row) for index, row in vacation_df.iterrows()]\n",
    "\n",
    "# 3b. Get the latitude and longitude from each row and store in a new DataFrame.\n",
    "locations = vacation_df[[\"Lat\", \"Lng\"]]"
   ]
  },
  {
   "cell_type": "code",
   "execution_count": null,
   "id": "b925d227",
   "metadata": {},
   "outputs": [],
   "source": [
    "# 4a. Add a marker layer for each city to the map.\n",
    "locations = vacation_df[[\"Lat\", \"Lng\"]]\n",
    "max_temp = vacation_df[\"Max Temp\"]\n",
    "fig = gmaps.figure(center=(30.0, 31.0), zoom_level=1.5)\n",
    "heat_layer = gmaps.heatmap_layer(locations, weights=max_temp,dissipating=False,\n",
    "             max_intensity=300, point_radius=4)\n",
    "marker_layer = gmaps.marker_layer(locations, info_box_content=hotel_info)\n",
    "fig.add_layer(heat_layer)\n",
    "fig.add_layer(marker_layer)\n",
    "\n",
    "# 4b. Display the figure\n",
    "fig"
   ]
  },
  {
   "cell_type": "code",
   "execution_count": null,
   "id": "5abc48af",
   "metadata": {},
   "outputs": [],
   "source": [
    "# From the map above pick 4 cities and create a vacation itinerary route to travel between the four cities. \n",
    "# 5. Create DataFrames for each city by filtering the 'vacation_df' using the loc method. \n",
    "# Hint: The starting and ending city should be the same city.\n",
    "\n",
    "vacation_start = vacation_df.loc[vacation_df['City'] == 'Eyl']\n",
    "vacation_end = vacation_df.loc[vacation_df['City'] == 'Eyl']\n",
    "vacation_stop1 = vacation_df.loc[vacation_df['City'] == 'Jibuti']\n",
    "vacation_stop2 = vacation_df.loc[vacation_df['City'] == 'Watsa']\n",
    "vacation_stop3 = vacation_df.loc[vacation_df['City'] == 'Garissa']"
   ]
  },
  {
   "cell_type": "code",
   "execution_count": null,
   "id": "e97ec06e",
   "metadata": {},
   "outputs": [],
   "source": [
    "# 6. Get the latitude-longitude pairs as tuples from each city DataFrame using the to_numpy function and list indexing.\n",
    "start = vacation_start[\"Lat\"].to_numpy()[0], vacation_start[\"Lng\"].to_numpy()[0]\n",
    "end = vacation_start[\"Lat\"].to_numpy()[0], vacation_start[\"Lng\"].to_numpy()[0]\n",
    "stop1 = vacation_stop1[\"Lat\"].to_numpy()[0], vacation_stop1[\"Lng\"].to_numpy()[0]\n",
    "stop2 = vacation_stop2[\"Lat\"].to_numpy()[0], vacation_stop2[\"Lng\"].to_numpy()[0]\n",
    "stop3 = vacation_stop3[\"Lat\"].to_numpy()[0], vacation_stop3[\"Lng\"].to_numpy()[0]"
   ]
  },
  {
   "cell_type": "code",
   "execution_count": null,
   "id": "641a7bf9",
   "metadata": {},
   "outputs": [],
   "source": [
    "# 7. Create a direction layer map using the start and end latitude-longitude pairs,\n",
    "# and stop1, stop2, and stop3 as the waypoints. The travel_mode should be \"DRIVING\", \"BICYCLING\", or \"WALKING\".\n",
    "# Create Map with route\n",
    "fig = gmaps.figure()\n",
    "travel_route = gmaps.directions_layer(\n",
    "        start, end, waypoints=[stop1,stop2,stop3],\n",
    "        travel_mode=\"DRIVING\" or \"BICYCLING\" or \"WALKING\")\n",
    "fig.add_layer(travel_route)\n",
    "fig"
   ]
  },
  {
   "cell_type": "code",
   "execution_count": null,
   "id": "f1303d6c",
   "metadata": {},
   "outputs": [],
   "source": [
    "# 8. To create a marker layer map between the four cities.\n",
    "#  Combine the four city DataFrames into one DataFrame using the concat() function.\n",
    "itinerary_df = pd.concat([vacation_start, vacation_stop1, \n",
    "                          vacation_stop2, vacation_stop3]\n",
    "                         ,ignore_index=True)\n",
    "itinerary_df"
   ]
  },
  {
   "cell_type": "code",
   "execution_count": null,
   "id": "17188dca",
   "metadata": {},
   "outputs": [],
   "source": [
    "# 9 Using the template add city name, the country code, the weather description and maximum temperature for the city. \n",
    "info_box_template = \"\"\"\n",
    "<dl>\n",
    "<dt>Hotel Name</dt><dd>{Hotel Name}</dd>\n",
    "<dt>City</dt><dd>{City}</dd>\n",
    "<dt>Country</dt><dd>{Country}</dd>\n",
    "<dt>Max Temp</dt><dd>{Max Temp}</dd>\n",
    "</dl>\n",
    "\"\"\"\n",
    "\n",
    "# 10a Get the data from each row and add it to the formatting template and store the data in a list.\n",
    "hotel_info = [info_box_template.format(**row) for index, row in itinerary_df.iterrows()]\n",
    "\n",
    "# 10b. Get the latitude and longitude from each row and store in a new DataFrame.\n",
    "locations = itinerary_df[[\"Lat\", \"Lng\"]]"
   ]
  },
  {
   "cell_type": "code",
   "execution_count": null,
   "id": "b0538b7e",
   "metadata": {},
   "outputs": [],
   "source": [
    "# 11a. Add a marker layer for each city to the map.\n",
    "fig = gmaps.figure()\n",
    "marker_layer = gmaps.marker_layer(locations, info_box_content=hotel_info)\n",
    "fig.add_layer(marker_layer)\n",
    "# 11b. Display the figure\n",
    "fig"
   ]
  },
  {
   "cell_type": "code",
   "execution_count": null,
   "id": "85a17ee4",
   "metadata": {},
   "outputs": [],
   "source": []
  },
  {
   "cell_type": "code",
   "execution_count": null,
   "id": "37b31311",
   "metadata": {},
   "outputs": [],
   "source": []
  }
 ],
 "metadata": {
  "kernelspec": {
   "display_name": "Python 3 (ipykernel)",
   "language": "python",
   "name": "python3"
  },
  "language_info": {
   "codemirror_mode": {
    "name": "ipython",
    "version": 3
   },
   "file_extension": ".py",
   "mimetype": "text/x-python",
   "name": "python",
   "nbconvert_exporter": "python",
   "pygments_lexer": "ipython3",
   "version": "3.9.7"
  }
 },
 "nbformat": 4,
 "nbformat_minor": 5
}
