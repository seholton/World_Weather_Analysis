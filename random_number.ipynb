{
 "cells": [
  {
   "cell_type": "code",
   "execution_count": 1,
   "id": "1b1a1e27",
   "metadata": {},
   "outputs": [],
   "source": [
    "# Import the random module.\n",
    "import random"
   ]
  },
  {
   "cell_type": "code",
   "execution_count": 2,
   "id": "2ef9453a",
   "metadata": {},
   "outputs": [
    {
     "data": {
      "text/plain": [
       "83"
      ]
     },
     "execution_count": 2,
     "metadata": {},
     "output_type": "execute_result"
    }
   ],
   "source": [
    "random.randint(-90,90)"
   ]
  },
  {
   "cell_type": "code",
   "execution_count": 3,
   "id": "a170191e",
   "metadata": {},
   "outputs": [
    {
     "data": {
      "text/plain": [
       "0.8844827184540471"
      ]
     },
     "execution_count": 3,
     "metadata": {},
     "output_type": "execute_result"
    }
   ],
   "source": [
    "random.random()"
   ]
  },
  {
   "cell_type": "code",
   "execution_count": 4,
   "id": "7e688184",
   "metadata": {},
   "outputs": [
    {
     "data": {
      "text/plain": [
       "-22.487241680545512"
      ]
     },
     "execution_count": 4,
     "metadata": {},
     "output_type": "execute_result"
    }
   ],
   "source": [
    "random_number = random.randint(-90,89)+random.random()\n",
    "random_number"
   ]
  },
  {
   "cell_type": "code",
   "execution_count": 6,
   "id": "39c7c386",
   "metadata": {},
   "outputs": [],
   "source": [
    "x=1 \n",
    "latitudes = []\n",
    "while x < 11:\n",
    "    random_lat = random.randint(-90,89)+random.random()\n",
    "    latitudes.append(random_lat)\n",
    "    x += 1\n",
    "    "
   ]
  },
  {
   "cell_type": "code",
   "execution_count": 14,
   "id": "2816c29f",
   "metadata": {},
   "outputs": [
    {
     "data": {
      "text/plain": [
       "42"
      ]
     },
     "execution_count": 14,
     "metadata": {},
     "output_type": "execute_result"
    }
   ],
   "source": [
    "random.randrange(-90,90,step=3)"
   ]
  },
  {
   "cell_type": "code",
   "execution_count": 15,
   "id": "0a915ae2",
   "metadata": {},
   "outputs": [
    {
     "data": {
      "text/plain": [
       "-7.376900108067417"
      ]
     },
     "execution_count": 15,
     "metadata": {},
     "output_type": "execute_result"
    }
   ],
   "source": [
    "random.uniform(-90,90)"
   ]
  },
  {
   "cell_type": "code",
   "execution_count": 16,
   "id": "9e35c87f",
   "metadata": {},
   "outputs": [],
   "source": [
    "#import the NumPy module\n",
    "import numpy as np"
   ]
  },
  {
   "cell_type": "code",
   "execution_count": 17,
   "id": "9ea36f3b",
   "metadata": {},
   "outputs": [
    {
     "data": {
      "text/plain": [
       "67.1621174908571"
      ]
     },
     "execution_count": 17,
     "metadata": {},
     "output_type": "execute_result"
    }
   ],
   "source": [
    "np.random.uniform(-90.000,90.000)"
   ]
  },
  {
   "cell_type": "code",
   "execution_count": 18,
   "id": "a66d1be9",
   "metadata": {},
   "outputs": [
    {
     "data": {
      "text/plain": [
       "array([ 73.21639593, -18.29490416, -39.52756314,  30.14511729,\n",
       "       -47.04023091, -71.23068298, -58.64185335, -81.89400222,\n",
       "        -5.58131711, -37.3846696 ,  61.89190682, -27.36618936,\n",
       "        27.81892016,  33.17684084,  14.43337524, -17.15716716,\n",
       "       -73.75290201,  29.97090997,  22.57093602,  49.48798802,\n",
       "       -57.64909064, -23.9111619 ,  56.19681412, -54.9877596 ,\n",
       "        77.62136651, -15.96909327,  88.07915807,  -4.90285951,\n",
       "       -48.2580834 ,  55.19867214, -21.93779485,  14.95100943,\n",
       "        57.82335105,  60.49806236, -26.78698904,  40.37488975,\n",
       "       -35.92210211,  18.52474234, -82.39049469, -84.35177656,\n",
       "        59.41216914,  25.31998155, -51.96604811,  73.33292196,\n",
       "        10.4246435 ,  82.0849169 ,   3.4458399 ,  18.37711454,\n",
       "        58.4320737 , -61.20691149])"
      ]
     },
     "execution_count": 18,
     "metadata": {},
     "output_type": "execute_result"
    }
   ],
   "source": [
    "np.random.uniform(-90.000,90.000,size=50)"
   ]
  },
  {
   "cell_type": "code",
   "execution_count": 19,
   "id": "9f3917f3",
   "metadata": {},
   "outputs": [],
   "source": [
    "# Import timeit.\n",
    "import timeit"
   ]
  },
  {
   "cell_type": "code",
   "execution_count": 20,
   "id": "8d932fe5",
   "metadata": {},
   "outputs": [
    {
     "name": "stdout",
     "output_type": "stream",
     "text": [
      "15.1 µs ± 373 ns per loop (mean ± std. dev. of 7 runs, 100000 loops each)\n"
     ]
    }
   ],
   "source": [
    "%timeit np.random.uniform(-90.000,90.000,size=1500)"
   ]
  },
  {
   "cell_type": "code",
   "execution_count": 22,
   "id": "93d8acca",
   "metadata": {},
   "outputs": [
    {
     "name": "stdout",
     "output_type": "stream",
     "text": [
      "1.51 ms ± 82.2 µs per loop (mean ± std. dev. of 7 runs, 1000 loops each)\n"
     ]
    }
   ],
   "source": [
    "def latitudes(size):\n",
    "    latitudes = []\n",
    "    x=0\n",
    "    while x < (size):\n",
    "        random_lat = random.randint(-90,90)+random.random()\n",
    "        latitudes.append(random_lat)\n",
    "        x += 1\n",
    "    return latitudes\n",
    "\n",
    "# call the fundtion with 1500\n",
    "%timeit latitudes(1500)\n",
    "        "
   ]
  },
  {
   "cell_type": "code",
   "execution_count": null,
   "id": "a94dafd8",
   "metadata": {},
   "outputs": [],
   "source": []
  }
 ],
 "metadata": {
  "kernelspec": {
   "display_name": "PythonData",
   "language": "python",
   "name": "pythondata"
  },
  "language_info": {
   "codemirror_mode": {
    "name": "ipython",
    "version": 3
   },
   "file_extension": ".py",
   "mimetype": "text/x-python",
   "name": "python",
   "nbconvert_exporter": "python",
   "pygments_lexer": "ipython3",
   "version": "3.9.7"
  }
 },
 "nbformat": 4,
 "nbformat_minor": 5
}
